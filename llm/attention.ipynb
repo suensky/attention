{
 "cells": [
  {
   "cell_type": "markdown",
   "id": "317049c5-bd76-4fb1-81fa-6187a605a9f7",
   "metadata": {},
   "source": [
    "## Download and open the text"
   ]
  },
  {
   "cell_type": "code",
   "execution_count": 1,
   "id": "7a6adf9d-a6e8-4d17-ba04-c7e9934275d5",
   "metadata": {
    "scrolled": true
   },
   "outputs": [
    {
     "name": "stdout",
     "output_type": "stream",
     "text": [
      "Total number of characters: 20479\n",
      "I HAD always thought Jack Gisburn rather a cheap genius--though a good fellow enough--so it was no \n"
     ]
    }
   ],
   "source": [
    "import urllib.request\n",
    "url = (\"https://raw.githubusercontent.com/rasbt/\"\n",
    "       \"LLMs-from-scratch/main/ch02/01_main-chapter-code/\"\n",
    "       \"the-verdict.txt\")\n",
    "file_path = \"the-verdict.txt\"\n",
    "urllib.request.urlretrieve(url, file_path)\n",
    "\n",
    "with open(\"the-verdict.txt\", \"r\", encoding=\"utf-8\") as f:\n",
    "    raw_text = f.read()\n",
    "\n",
    "print(\"Total number of characters:\", len(raw_text))\n",
    "print(raw_text[:99])"
   ]
  },
  {
   "cell_type": "markdown",
   "id": "0f28a56e-01fc-452e-a5e3-63fd0c1847f7",
   "metadata": {},
   "source": [
    "## Build vocabulary with sorted unique tokens from the text"
   ]
  },
  {
   "cell_type": "code",
   "execution_count": 2,
   "id": "83bb77f2-cf95-4714-92b9-fdf0a8e187fc",
   "metadata": {},
   "outputs": [
    {
     "name": "stdout",
     "output_type": "stream",
     "text": [
      "4690\n",
      "1132\n"
     ]
    }
   ],
   "source": [
    "import re\n",
    "preprocessed = re.split(r'([,.:;?_!\"()\\']|--|\\s)', raw_text)\n",
    "preprocessed = [item.strip() for item in preprocessed if item.strip()]\n",
    "all_words = sorted(set(preprocessed))\n",
    "all_words.extend([\"<|endoftext|>\", \"<|unk|>\"])\n",
    "vocab_size = len(all_words)\n",
    "vocab = {token:integer for integer,token in enumerate(all_words)}\n",
    "\n",
    "print(len(preprocessed))\n",
    "print(vocab_size)"
   ]
  },
  {
   "cell_type": "markdown",
   "id": "fee80f2d-a3b3-48c8-beb7-062149a829be",
   "metadata": {},
   "source": [
    "## A simple Tokenizer with two special tokens <|unk|> and <|endoftext|>"
   ]
  },
  {
   "cell_type": "code",
   "execution_count": 3,
   "id": "269ebeba-2d3e-4a37-9b95-09134c4983da",
   "metadata": {},
   "outputs": [],
   "source": [
    "class SimpleTokenizerV1:\n",
    "    def __init__(self, vocab):\n",
    "        self.str_to_int = vocab\n",
    "        self.int_to_str = {i:s for s,i in vocab.items()}\n",
    "\n",
    "    def encode(self, text):\n",
    "        preprocessed = re.split(r'([,.:;?_!\"()\\']|--|\\s)', text)\n",
    "        preprocessed = [item.strip() for item in preprocessed if item.strip()]\n",
    "        preprocessed = [item if item in self.str_to_int else \"<|unk|>\" for item in preprocessed]\n",
    "        ids = [self.str_to_int[s] for s in preprocessed]\n",
    "        return ids\n",
    "\n",
    "    def decode(self, ids):\n",
    "        tokens = [self.int_to_str[i] for i in ids]\n",
    "        text = \" \".join(tokens)\n",
    "        text = re.sub(r'\\s+([,.?!\"()\\'])', r'\\1', text)\n",
    "        return text\n"
   ]
  },
  {
   "cell_type": "markdown",
   "id": "81238fcf-3e46-4da9-a6e2-d89e9f1327cc",
   "metadata": {},
   "source": [
    "## Example of using the Tokenizer"
   ]
  },
  {
   "cell_type": "code",
   "execution_count": 63,
   "id": "87c8f4a7-0f8d-46d6-9baf-cdac13303927",
   "metadata": {},
   "outputs": [
    {
     "name": "stdout",
     "output_type": "stream",
     "text": [
      "Text:  Hello, do you like tea? <|endoftext|> In the sunlit terraces of the palace.\n",
      "Encoded ids:  [1131, 5, 355, 1126, 628, 975, 10, 1130, 55, 988, 956, 984, 722, 988, 1131, 7]\n",
      "Decoded text:  <|unk|>, do you like tea? <|endoftext|> In the sunlit terraces of the <|unk|>.\n"
     ]
    }
   ],
   "source": [
    "tokenizer = SimpleTokenizerV1(vocab)\n",
    "\n",
    "text1 = \"Hello, do you like tea?\"\n",
    "text2 = \"In the sunlit terraces of the palace.\"\n",
    "text = \" <|endoftext|> \".join((text1, text2))\n",
    "print(\"Text: \",text)\n",
    "\n",
    "ids = tokenizer.encode(text)\n",
    "print(\"Encoded ids: \", ids)\n",
    "\n",
    "decoded_text = tokenizer.decode(ids)\n",
    "print(\"Decoded text: \", decoded_text)\n"
   ]
  },
  {
   "cell_type": "markdown",
   "id": "c9b4bfab-80a7-42cc-baa1-291c90fdbd2c",
   "metadata": {},
   "source": [
    "## Byte Pair Encoding"
   ]
  },
  {
   "cell_type": "code",
   "execution_count": 64,
   "id": "33232f3b-f40d-4178-b83f-0df7a42a861c",
   "metadata": {},
   "outputs": [],
   "source": [
    "import tiktoken\n",
    "tokenizer = tiktoken.get_encoding(\"gpt2\")"
   ]
  },
  {
   "cell_type": "code",
   "execution_count": 65,
   "id": "44c35438-760d-44c4-b73a-af896471d299",
   "metadata": {},
   "outputs": [
    {
     "name": "stdout",
     "output_type": "stream",
     "text": [
      "[15496, 11, 466, 345, 588, 8887, 30, 220, 50256, 554, 262, 4252, 18250, 8812, 2114, 1659, 617, 34680, 27271, 13]\n"
     ]
    }
   ],
   "source": [
    "text = (\n",
    "    \"Hello, do you like tea? <|endoftext|> In the sunlit terraces\"\n",
    "     \"of someunknownPlace.\"\n",
    ")\n",
    "integers = tokenizer.encode(text, allowed_special={\"<|endoftext|>\"})\n",
    "print(integers)"
   ]
  },
  {
   "cell_type": "code",
   "execution_count": 66,
   "id": "d1ed2019-5055-4d78-b6a0-b294059a67da",
   "metadata": {},
   "outputs": [
    {
     "name": "stdout",
     "output_type": "stream",
     "text": [
      "Hello, do you like tea? <|endoftext|> In the sunlit terracesof someunknownPlace.\n"
     ]
    }
   ],
   "source": [
    "strings = tokenizer.decode(integers)\n",
    "print(strings)"
   ]
  },
  {
   "cell_type": "code",
   "execution_count": 67,
   "id": "c1dd6d1d-7fdd-48a9-9c93-4b99cc8d67d3",
   "metadata": {},
   "outputs": [
    {
     "name": "stdout",
     "output_type": "stream",
     "text": [
      "[33901, 86, 343, 86, 220, 959]\n",
      "Akwirw ier\n"
     ]
    }
   ],
   "source": [
    "text = \"Akwirw ier\"\n",
    "\n",
    "ids = tokenizer.encode(text)\n",
    "print(ids)\n",
    "\n",
    "str = tokenizer.decode(ids)\n",
    "print(str)"
   ]
  },
  {
   "cell_type": "code",
   "execution_count": 68,
   "id": "50f84d42-5370-4270-9dbb-63a5341a8f46",
   "metadata": {},
   "outputs": [
    {
     "name": "stdout",
     "output_type": "stream",
     "text": [
      "5145\n"
     ]
    }
   ],
   "source": [
    "enc_ids = tokenizer.encode(raw_text)\n",
    "print(len(enc_ids))"
   ]
  },
  {
   "cell_type": "markdown",
   "id": "09b920d5-67e7-4452-839e-adf952f70050",
   "metadata": {},
   "source": [
    "## Dataloader via Pytorch"
   ]
  },
  {
   "cell_type": "code",
   "execution_count": 69,
   "id": "6266d38d-0b98-44ac-a0bf-b15ef25b7383",
   "metadata": {},
   "outputs": [],
   "source": [
    "import torch\n",
    "from torch.utils.data import Dataset, DataLoader\n",
    "\n",
    "class GPTDatasetV1(Dataset):\n",
    "    def __init__(self, txt, tokenizer, max_length, stride):\n",
    "        self.input_ids = []\n",
    "        self.target_ids = []\n",
    "\n",
    "        token_ids = tokenizer.encode(txt)\n",
    "        tokens_len = len(token_ids)\n",
    "\n",
    "        for i in range(0, tokens_len - max_length, stride):\n",
    "            input_chunk = token_ids[i:i+max_length]\n",
    "            target_chunk = token_ids[i+1: i+max_length+1]\n",
    "\n",
    "            self.input_ids.append(torch.tensor(input_chunk))\n",
    "            self.target_ids.append(torch.tensor(target_chunk))\n",
    "\n",
    "    def __len__(self):\n",
    "        return len(self.input_ids)\n",
    "\n",
    "    def __getitem__(self, idx):\n",
    "        return self.input_ids[idx], self.target_ids[idx]\n",
    "\n",
    "def create_dataloader_v1(txt, batch_size=4, max_length=256, stride=128, shuffle=True, drop_last=True, num_workers=0):\n",
    "    tokenizer = tiktoken.get_encoding(\"gpt2\")\n",
    "    dataset = GPTDatasetV1(txt, tokenizer, max_length, stride,)\n",
    "    dataloader = DataLoader(dataset, batch_size=batch_size, shuffle=shuffle, drop_last=drop_last, num_workers=num_workers)\n",
    "    return dataloader"
   ]
  },
  {
   "cell_type": "code",
   "execution_count": 70,
   "id": "70c372c9",
   "metadata": {},
   "outputs": [
    {
     "name": "stdout",
     "output_type": "stream",
     "text": [
      "Token IDs:\n",
      " tensor([[   40,   367,  2885,  1464],\n",
      "        [ 1807,  3619,   402,   271],\n",
      "        [10899,  2138,   257,  7026],\n",
      "        [15632,   438,  2016,   257],\n",
      "        [  922,  5891,  1576,   438],\n",
      "        [  568,   340,   373,   645],\n",
      "        [ 1049,  5975,   284,   502],\n",
      "        [  284,  3285,   326,    11]])\n",
      "\n",
      "Inputs shape:\n",
      " torch.Size([8, 4])\n"
     ]
    }
   ],
   "source": [
    "with open(\"the-verdict.txt\", \"r\", encoding=\"utf-8\") as f:\n",
    "    raw_text = f.read()\n",
    "\n",
    "max_length=4\n",
    "dataloader = create_dataloader_v1(raw_text, batch_size=8, max_length=max_length, stride=max_length, shuffle=False)\n",
    "data_iter = iter(dataloader)\n",
    "inputs, targets = next(data_iter)\n",
    "print(\"Token IDs:\\n\", inputs)\n",
    "print(\"\\nInputs shape:\\n\", inputs.shape)"
   ]
  },
  {
   "cell_type": "markdown",
   "id": "78e7a0d9",
   "metadata": {},
   "source": [
    "## Attentioin\n",
    "### Simplified self-attention"
   ]
  },
  {
   "cell_type": "code",
   "execution_count": 71,
   "id": "315e0b6e",
   "metadata": {},
   "outputs": [
    {
     "name": "stdout",
     "output_type": "stream",
     "text": [
      "attention scores for x^2:\n",
      " tensor([0.9544, 1.4950, 1.4754, 0.8434, 0.7070, 1.0865]) \n",
      "\n",
      "attention weights for x^2:\n",
      " tensor([0.1385, 0.2379, 0.2333, 0.1240, 0.1082, 0.1581]) \n",
      "\n",
      "sum:  tensor(1.) \n",
      "\n",
      "Context vector for x^2:\n",
      " tensor([0.4419, 0.6515, 0.5683]) \n",
      "\n",
      "Context vector:\n",
      " tensor([[0.4421, 0.5931, 0.5790],\n",
      "        [0.4419, 0.6515, 0.5683],\n",
      "        [0.4431, 0.6496, 0.5671],\n",
      "        [0.4304, 0.6298, 0.5510],\n",
      "        [0.4671, 0.5910, 0.5266],\n",
      "        [0.4177, 0.6503, 0.5645]]) \n",
      "\n"
     ]
    }
   ],
   "source": [
    "import torch\n",
    "inputs = torch.tensor(\n",
    "  [[0.43, 0.15, 0.89], # Your     (x^1)\n",
    "   [0.55, 0.87, 0.66], # journey  (x^2)\n",
    "   [0.57, 0.85, 0.64], # starts   (x^3)\n",
    "   [0.22, 0.58, 0.33], # with     (x^4)\n",
    "   [0.77, 0.25, 0.10], # one      (x^5)\n",
    "   [0.05, 0.80, 0.55]] # step     (x^6)\n",
    ")\n",
    "\n",
    "# E.g., calculate context vector of x^2, journey\n",
    "query = inputs[1]  # x^2\n",
    "attn_scores_2 = torch.empty(inputs.shape[0])\n",
    "for i, x_i in enumerate(inputs):\n",
    "    attn_scores_2[i] = torch.dot(x_i, query)\n",
    "print(\"attention scores for x^2:\\n\", attn_scores_2, \"\\n\")\n",
    "\n",
    "att_weights_2 = torch.softmax(attn_scores_2, dim=0)\n",
    "print(\"attention weights for x^2:\\n\", att_weights_2, \"\\n\")\n",
    "print(\"sum: \", att_weights_2.sum(), \"\\n\")\n",
    "\n",
    "context_vec_2 = torch.zeros(query.shape)\n",
    "for i, x_i in enumerate(inputs):\n",
    "    context_vec_2 += att_weights_2[i] * x_i\n",
    "print(\"Context vector for x^2:\\n\", context_vec_2, \"\\n\")\n",
    "\n",
    "# Now calculate context vectors of all embeddings\n",
    "att_scores = inputs @ inputs.T\n",
    "att_weights = torch.softmax(att_scores, dim=-1)\n",
    "context_vec = att_weights @ inputs\n",
    "print(\"Context vector:\\n\", context_vec, \"\\n\")\n"
   ]
  },
  {
   "cell_type": "markdown",
   "id": "838e0ca4",
   "metadata": {},
   "source": [
    "### Self-attention with trainable weights"
   ]
  },
  {
   "cell_type": "code",
   "execution_count": 72,
   "id": "e4adbaaf",
   "metadata": {},
   "outputs": [
    {
     "name": "stdout",
     "output_type": "stream",
     "text": [
      "input embedding shape:  torch.Size([6, 3]) \n",
      "\n",
      "query_2:  tensor([0.4306, 1.4551]) \n",
      "\n",
      "key 2:  tensor([0.4433, 1.1419]) \n",
      "\n",
      "keys[1]:  tensor([0.4433, 1.1419]) \n",
      "\n",
      "d_k:  2 \n",
      "\n",
      "att scores 2:\n",
      " tensor([1.2705, 1.8524, 1.8111, 1.0795, 0.5577, 1.5440]) \n",
      "\n",
      "att weights 2:\n",
      " tensor([0.1500, 0.2264, 0.2199, 0.1311, 0.0906, 0.1820]) \n",
      "\n",
      "sum:  tensor(1.0000) \n",
      "\n",
      "context vector 2:\n",
      " tensor([0.3061, 0.8210]) \n",
      "\n"
     ]
    }
   ],
   "source": [
    "# Example using x^2\n",
    "\n",
    "x_2 = inputs[1]\n",
    "d_in = inputs.shape[1]\n",
    "print(\"input embedding shape: \", inputs.shape, \"\\n\")\n",
    "d_out = 2\n",
    "\n",
    "torch.manual_seed(123)\n",
    "W_query = torch.nn.Parameter(torch.rand(d_in, d_out), requires_grad=False)\n",
    "W_key = torch.nn.Parameter(torch.rand(d_in, d_out), requires_grad=False)\n",
    "W_value = torch.nn.Parameter(torch.rand(d_in, d_out), requires_grad=False)\n",
    "\n",
    "query_2 = x_2 @ W_query\n",
    "key_2 = x_2 @ W_key\n",
    "value_2 = x_2 @ W_value\n",
    "print(\"query_2: \", query_2, \"\\n\")\n",
    "print(\"key 2: \", key_2, \"\\n\")\n",
    "keys = inputs @ W_key\n",
    "print(\"keys[1]: \", keys[1], \"\\n\")\n",
    "values = inputs @ W_value\n",
    "\n",
    "att_score_22 = query_2.dot(key_2)\n",
    "\n",
    "att_scores_2 = query_2 @ keys.T\n",
    "\n",
    "d_k = keys.shape[-1]\n",
    "print(\"d_k: \", d_k, \"\\n\")\n",
    "att_weights_2 = torch.softmax(att_scores_2 / d_k ** 0.5, dim=-1)\n",
    "print(\"att scores 2:\\n\", att_scores_2, \"\\n\")\n",
    "print(\"att weights 2:\\n\", att_weights_2, \"\\n\")\n",
    "print(\"sum: \", att_weights_2.sum(), \"\\n\")\n",
    "\n",
    "context_vec_2 = att_weights_2 @ values\n",
    "print(\"context vector 2:\\n\", context_vec_2, \"\\n\")"
   ]
  },
  {
   "cell_type": "code",
   "execution_count": 73,
   "id": "cceab691",
   "metadata": {},
   "outputs": [
    {
     "name": "stdout",
     "output_type": "stream",
     "text": [
      "context vector:\n",
      " tensor([[0.2996, 0.8053],\n",
      "        [0.3061, 0.8210],\n",
      "        [0.3058, 0.8203],\n",
      "        [0.2948, 0.7939],\n",
      "        [0.2927, 0.7891],\n",
      "        [0.2990, 0.8040]], grad_fn=<MmBackward0>) \n",
      "\n",
      "context vector:\n",
      " tensor([[-0.0739,  0.0713],\n",
      "        [-0.0748,  0.0703],\n",
      "        [-0.0749,  0.0702],\n",
      "        [-0.0760,  0.0685],\n",
      "        [-0.0763,  0.0679],\n",
      "        [-0.0754,  0.0693]], grad_fn=<MmBackward0>) \n",
      "\n"
     ]
    }
   ],
   "source": [
    "import torch.nn as nn\n",
    "\n",
    "class SelfAttentionV1(nn.Module):\n",
    "    def __init__(self, d_in, d_out):\n",
    "        super().__init__()\n",
    "\n",
    "        self.W_query = nn.Parameter(torch.rand(d_in, d_out))\n",
    "        self.W_keys = nn.Parameter(torch.rand(d_in, d_out))\n",
    "        self.W_values = nn.Parameter(torch.rand(d_in, d_out))\n",
    "\n",
    "    def forward(self, x):\n",
    "        queries = x @ self.W_query # x_0 * d_out\n",
    "        keys = x @ self.W_keys # x_0 * d_out\n",
    "        values = x @ self.W_values # x_0 * d_out\n",
    "\n",
    "        att_scores = queries @ keys.T # x_0 * x_0\n",
    "        att_weights = torch.softmax(att_scores / d_out ** 0.5, dim=-1) # x_0 * x_0\n",
    "        context_vec = att_weights @ values # x_0 * d_out\n",
    "        return context_vec\n",
    "\n",
    "torch.manual_seed(123)\n",
    "self_att_v1 = SelfAttentionV1(d_in, d_out)\n",
    "print(\"context vector:\\n\", self_att_v1.forward(inputs), \"\\n\")\n",
    "\n",
    "\n",
    "class SelfAttentionV2(nn.Module):\n",
    "    def __init__(self, d_in, d_out, qkv_bias=False):\n",
    "        super().__init__()\n",
    "\n",
    "        self.W_query = nn.Linear(d_in, d_out, bias=qkv_bias)\n",
    "        self.W_key = nn.Linear(d_in, d_out, bias=qkv_bias)\n",
    "        self.W_value = nn.Linear(d_in, d_out, bias=qkv_bias)\n",
    "\n",
    "    def forward(self, x):\n",
    "        queries = self.W_query(x) # x_0 * d_out\n",
    "        keys = self.W_key(x) # x_0 * d_out\n",
    "        values = self.W_value(x) # x_0 * d_out\n",
    "\n",
    "        att_scores = queries @ keys.T # x_0 * x_0\n",
    "        att_weights = torch.softmax(att_scores / keys.shape[-1] ** 0.5, dim=-1) # x_0 * x_0\n",
    "        context_vec = att_weights @ values # x_0 * d_out\n",
    "        return context_vec\n",
    "\n",
    "torch.manual_seed(789)\n",
    "self_att_v2 = SelfAttentionV2(d_in, d_out)\n",
    "print(\"context vector:\\n\", self_att_v2.forward(inputs), \"\\n\")"
   ]
  },
  {
   "cell_type": "markdown",
   "id": "e0e442dc",
   "metadata": {},
   "source": [
    "### Casual Attention"
   ]
  },
  {
   "cell_type": "code",
   "execution_count": 74,
   "id": "ab1329b2",
   "metadata": {},
   "outputs": [
    {
     "name": "stdout",
     "output_type": "stream",
     "text": [
      "batch:  torch.Size([2, 6, 3])\n",
      "context vectors shape: torch.Size([2, 6, 2]) \n",
      "\n",
      "context vectors:\n",
      " tensor([[[-0.9038,  0.4432],\n",
      "         [-0.4368,  0.2142],\n",
      "         [-0.4849, -0.1341],\n",
      "         [-0.5834,  0.0081],\n",
      "         [-0.6219, -0.0526],\n",
      "         [-0.1417, -0.0505]],\n",
      "\n",
      "        [[ 0.0000,  0.0000],\n",
      "         [-1.1749,  0.0116],\n",
      "         [-0.7733,  0.0073],\n",
      "         [-0.9140, -0.2769],\n",
      "         [-0.7679, -0.0735],\n",
      "         [-0.6749, -0.0984]]], grad_fn=<UnsafeViewBackward0>) \n",
      "\n"
     ]
    }
   ],
   "source": [
    "class CasualAttention(nn.Module):\n",
    "    def __init__(self, d_in, d_out, context_length, dropout, qkv_bias=False):\n",
    "        super().__init__()\n",
    "\n",
    "        self.d_out = d_out\n",
    "        self.W_query = nn.Linear(d_in, d_out, bias=qkv_bias)\n",
    "        self.W_key = nn.Linear(d_in, d_out, bias=qkv_bias)\n",
    "        self.W_value = nn.Linear(d_in, d_out, bias=qkv_bias)\n",
    "\n",
    "        self.dropout = nn.Dropout(dropout)\n",
    "        self.register_buffer(\n",
    "            'mask',\n",
    "            torch.triu(torch.ones(context_length, context_length),diagonal=1)\n",
    "        )\n",
    "\n",
    "    def forward(self, x):\n",
    "        batch_count, num_tokens, d_in = x.shape\n",
    "        keys = self.W_key(x)\n",
    "        queries = self.W_query(x)\n",
    "        values = self.W_value(x)\n",
    "\n",
    "        att_scores = queries @ keys.transpose(1, 2)\n",
    "        att_scores.masked_fill_(self.mask.bool()[:num_tokens, :num_tokens], -torch.inf)\n",
    "\n",
    "        att_weights = torch.softmax(att_scores / keys.shape[-1] ** 0.5, dim=-1)\n",
    "        att_weights = self.dropout(att_weights)\n",
    "\n",
    "        context_vec = att_weights @ values\n",
    "        return context_vec\n",
    "\n",
    "batch = torch.stack((inputs, inputs), dim=0)\n",
    "print(\"batch: \", batch.shape)\n",
    "\n",
    "torch.manual_seed(123)\n",
    "context_length = batch.shape[1]\n",
    "\n",
    "casual_att = CasualAttention(d_in, d_out, context_length, 0.5)\n",
    "context_vecs = casual_att.forward(batch)\n",
    "print(\"context vectors shape:\", context_vecs.shape, \"\\n\")\n",
    "print(\"context vectors:\\n\", context_vecs, \"\\n\")\n"
   ]
  },
  {
   "cell_type": "markdown",
   "id": "4a92e1c8",
   "metadata": {},
   "source": [
    "### Multi-head attention"
   ]
  },
  {
   "cell_type": "code",
   "execution_count": 75,
   "id": "06946e39",
   "metadata": {},
   "outputs": [],
   "source": [
    "class MultiHeadAttention(nn.Module):\n",
    "    def __init__(self, d_in, d_out, context_length, dropout, num_heads, qkv_bias=False):\n",
    "        super().__init__()\n",
    "        assert (d_out % num_heads == 0), \"d_out must be divisible by num_heads\"\n",
    "\n",
    "        self.d_out = d_out\n",
    "        self.num_heads = num_heads\n",
    "        self.head_dim = d_out // num_heads # dimensions in each head\n",
    "        self.W_query = nn.Linear(d_in, d_out, bias=qkv_bias)\n",
    "        self.W_key = nn.Linear(d_in, d_out, bias=qkv_bias)\n",
    "        self.W_value = nn.Linear(d_in, d_out, bias=qkv_bias)\n",
    "        self.out_proj = nn.Linear(d_out, d_out)\n",
    "        self.dropout = nn.Dropout(dropout)\n",
    "        self.register_buffer(\n",
    "            \"mask\",\n",
    "            torch.triu(torch.ones(context_length, context_length),\n",
    "                       diagonal=1)\n",
    "        )\n",
    "\n",
    "    def forward(self, x): # x.shape = [batches, num_tokens, d_in], d_in = embedding dimentions\n",
    "        batches, num_tokens, d_in = x.shape\n",
    "\n",
    "        keys = self.W_key(x)\n",
    "        queries = self.W_query(x)\n",
    "        values = self.W_value(x)\n",
    "\n",
    "        keys = keys.view(batches, num_tokens, self.num_heads, self.head_dim)\n",
    "        queries = queries.view(batches, num_tokens, self.num_heads, self.head_dim)\n",
    "        values = values.view(batches, num_tokens, self.num_heads, self.head_dim)\n",
    "\n",
    "        keys = keys.transpose(1, 2)      # (batches, num_heads, num_tokens, head_dim)\n",
    "        queries = queries.transpose(1, 2)\n",
    "        values = values.transpose(1, 2)\n",
    "\n",
    "        att_scores = queries @ keys.transpose(-2, -1)\n",
    "\n",
    "        mask_bool = self.mask.bool()[:num_tokens, :num_tokens]\n",
    "        att_scores.masked_fill_(mask_bool, -torch.inf)\n",
    "        att_weights = torch.softmax(att_scores / keys.shape[-1] ** 0.5, dim=-1)\n",
    "\n",
    "        att_weights = self.dropout(att_weights)\n",
    "\n",
    "        context_vec = (att_weights @ values).transpose(1, 2)\n",
    "        context_vec = context_vec.contiguous().view(batches, num_tokens, d_out)\n",
    "        context_vec = self.out_proj(context_vec)\n",
    "        return context_vec"
   ]
  },
  {
   "cell_type": "code",
   "execution_count": 76,
   "id": "aa53f439",
   "metadata": {},
   "outputs": [
    {
     "name": "stdout",
     "output_type": "stream",
     "text": [
      "tensor([[[0.3190, 0.4858],\n",
      "         [0.2943, 0.3897],\n",
      "         [0.2856, 0.3593],\n",
      "         [0.2693, 0.3873],\n",
      "         [0.2639, 0.3928],\n",
      "         [0.2575, 0.4028]],\n",
      "\n",
      "        [[0.3190, 0.4858],\n",
      "         [0.2943, 0.3897],\n",
      "         [0.2856, 0.3593],\n",
      "         [0.2693, 0.3873],\n",
      "         [0.2639, 0.3928],\n",
      "         [0.2575, 0.4028]]], grad_fn=<ViewBackward0>)\n",
      "context_vecs.shape: torch.Size([2, 6, 2])\n"
     ]
    }
   ],
   "source": [
    "torch.manual_seed(123)\n",
    "batch_size, context_length, d_in = batch.shape\n",
    "d_out = 2\n",
    "mha = MultiHeadAttention(d_in, d_out, context_length, 0.0, num_heads=2)\n",
    "context_vecs = mha(batch)\n",
    "print(context_vecs)\n",
    "print(\"context_vecs.shape:\", context_vecs.shape)"
   ]
  }
 ],
 "metadata": {
  "kernelspec": {
   "display_name": "base",
   "language": "python",
   "name": "python3"
  },
  "language_info": {
   "codemirror_mode": {
    "name": "ipython",
    "version": 3
   },
   "file_extension": ".py",
   "mimetype": "text/x-python",
   "name": "python",
   "nbconvert_exporter": "python",
   "pygments_lexer": "ipython3",
   "version": "3.12.2"
  }
 },
 "nbformat": 4,
 "nbformat_minor": 5
}
