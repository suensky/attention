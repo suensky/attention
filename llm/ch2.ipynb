{
 "cells": [
  {
   "cell_type": "markdown",
   "id": "317049c5-bd76-4fb1-81fa-6187a605a9f7",
   "metadata": {},
   "source": [
    "## Download and open the text"
   ]
  },
  {
   "cell_type": "code",
   "execution_count": null,
   "id": "7a6adf9d-a6e8-4d17-ba04-c7e9934275d5",
   "metadata": {
    "scrolled": true
   },
   "outputs": [],
   "source": [
    "import urllib.request\n",
    "url = (\"https://raw.githubusercontent.com/rasbt/\"\n",
    "       \"LLMs-from-scratch/main/ch02/01_main-chapter-code/\"\n",
    "       \"the-verdict.txt\")\n",
    "file_path = \"the-verdict.txt\"\n",
    "urllib.request.urlretrieve(url, file_path)\n",
    "\n",
    "with open(\"the-verdict.txt\", \"r\", encoding=\"utf-8\") as f:\n",
    "    raw_text = f.read()\n",
    "\n",
    "print(\"Total number of characters:\", len(raw_text))\n",
    "print(raw_text[:99])"
   ]
  },
  {
   "cell_type": "markdown",
   "id": "0f28a56e-01fc-452e-a5e3-63fd0c1847f7",
   "metadata": {},
   "source": [
    "## Build vocabulary with sorted unique tokens from the text"
   ]
  },
  {
   "cell_type": "code",
   "execution_count": null,
   "id": "83bb77f2-cf95-4714-92b9-fdf0a8e187fc",
   "metadata": {},
   "outputs": [],
   "source": [
    "import re\n",
    "preprocessed = re.split(r'([,.:;?_!\"()\\']|--|\\s)', raw_text)\n",
    "preprocessed = [item.strip() for item in preprocessed if item.strip()]\n",
    "all_words = sorted(set(preprocessed))\n",
    "all_words.extend([\"<|endoftext|>\", \"<|unk|>\"])\n",
    "vocab_size = len(all_words)\n",
    "vocab = {token:integer for integer,token in enumerate(all_words)}\n",
    "\n",
    "print(len(preprocessed))\n",
    "print(vocab_size)"
   ]
  },
  {
   "cell_type": "markdown",
   "id": "fee80f2d-a3b3-48c8-beb7-062149a829be",
   "metadata": {},
   "source": [
    "## A simple Tokenizer with two special tokens <|unk|> and <|endoftext|>"
   ]
  },
  {
   "cell_type": "code",
   "execution_count": null,
   "id": "269ebeba-2d3e-4a37-9b95-09134c4983da",
   "metadata": {},
   "outputs": [],
   "source": [
    "class SimpleTokenizerV1:\n",
    "    def __init__(self, vocab):\n",
    "        self.str_to_int = vocab\n",
    "        self.int_to_str = {i:s for s,i in vocab.items()}\n",
    "    \n",
    "    def encode(self, text):\n",
    "        preprocessed = re.split(r'([,.:;?_!\"()\\']|--|\\s)', text)\n",
    "        preprocessed = [item.strip() for item in preprocessed if item.strip()]\n",
    "        preprocessed = [item if item in self.str_to_int else \"<|unk|>\" for item in preprocessed] \n",
    "        ids = [self.str_to_int[s] for s in preprocessed]\n",
    "        return ids\n",
    "\n",
    "    def decode(self, ids):\n",
    "        tokens = [self.int_to_str[i] for i in ids]\n",
    "        text = \" \".join(tokens)\n",
    "        text = re.sub(r'\\s+([,.?!\"()\\'])', r'\\1', text)\n",
    "        return text\n",
    "        "
   ]
  },
  {
   "cell_type": "markdown",
   "id": "81238fcf-3e46-4da9-a6e2-d89e9f1327cc",
   "metadata": {},
   "source": [
    "## Example of using the Tokenizer"
   ]
  },
  {
   "cell_type": "code",
   "execution_count": null,
   "id": "87c8f4a7-0f8d-46d6-9baf-cdac13303927",
   "metadata": {},
   "outputs": [],
   "source": [
    "tokenizer = SimpleTokenizerV1(vocab)\n",
    "\n",
    "text1 = \"Hello, do you like tea?\"\n",
    "text2 = \"In the sunlit terraces of the palace.\"\n",
    "text = \" <|endoftext|> \".join((text1, text2))\n",
    "print(\"Text: \",text)\n",
    "\n",
    "ids = tokenizer.encode(text)\n",
    "print(\"Encoded ids: \", ids)\n",
    "\n",
    "decoded_text = tokenizer.decode(ids)\n",
    "print(\"Decoded text: \", decoded_text)\n"
   ]
  },
  {
   "cell_type": "markdown",
   "id": "c9b4bfab-80a7-42cc-baa1-291c90fdbd2c",
   "metadata": {},
   "source": [
    "## Byte Pair Encoding"
   ]
  },
  {
   "cell_type": "code",
   "execution_count": null,
   "id": "33232f3b-f40d-4178-b83f-0df7a42a861c",
   "metadata": {},
   "outputs": [],
   "source": [
    "import tiktoken\n",
    "tokenizer = tiktoken.get_encoding(\"gpt2\")"
   ]
  },
  {
   "cell_type": "code",
   "execution_count": null,
   "id": "44c35438-760d-44c4-b73a-af896471d299",
   "metadata": {},
   "outputs": [],
   "source": [
    "text = (\n",
    "    \"Hello, do you like tea? <|endoftext|> In the sunlit terraces\"\n",
    "     \"of someunknownPlace.\"\n",
    ")\n",
    "integers = tokenizer.encode(text, allowed_special={\"<|endoftext|>\"})\n",
    "print(integers)"
   ]
  },
  {
   "cell_type": "code",
   "execution_count": null,
   "id": "d1ed2019-5055-4d78-b6a0-b294059a67da",
   "metadata": {},
   "outputs": [],
   "source": [
    "strings = tokenizer.decode(integers)\n",
    "print(strings)"
   ]
  },
  {
   "cell_type": "code",
   "execution_count": null,
   "id": "c1dd6d1d-7fdd-48a9-9c93-4b99cc8d67d3",
   "metadata": {},
   "outputs": [],
   "source": [
    "text = \"Akwirw ier\"\n",
    "\n",
    "ids = tokenizer.encode(text)\n",
    "print(ids)\n",
    "\n",
    "str = tokenizer.decode(ids)\n",
    "print(str)"
   ]
  },
  {
   "cell_type": "code",
   "execution_count": null,
   "id": "50f84d42-5370-4270-9dbb-63a5341a8f46",
   "metadata": {},
   "outputs": [],
   "source": [
    "enc_ids = tokenizer.encode(raw_text)\n",
    "print(len(enc_ids))"
   ]
  },
  {
   "cell_type": "markdown",
   "id": "09b920d5-67e7-4452-839e-adf952f70050",
   "metadata": {},
   "source": [
    "## Dataloader via Pytorch"
   ]
  },
  {
   "cell_type": "code",
   "execution_count": null,
   "id": "6266d38d-0b98-44ac-a0bf-b15ef25b7383",
   "metadata": {},
   "outputs": [],
   "source": [
    "import torch\n",
    "from torch.utils.data import Dataset, DataLoader\n",
    "\n",
    "class GPTDatasetV1(Dataset):\n",
    "    def __init__(self, txt, tokenizer, max_length, stride):\n",
    "        self.input_ids = []\n",
    "        self.target_ids = []\n",
    "\n",
    "        token_ids = tokenizer.encode(txt)\n",
    "        tokens_len = len(token_ids)\n",
    "\n",
    "        for i in range(0, tokens_len - max_length, stride):\n",
    "            input_chunk = token_ids[i:i+max_length]\n",
    "            target_chunk = token_ids[i+1: i+max_length+1]\n",
    "\n",
    "            self.input_ids.append(torch.tensor(input_chunk))\n",
    "            self.target_ids.append(torch.tensor(target_chunk))\n",
    "    \n",
    "    def __len__(self):\n",
    "        return len(self.input_ids)\n",
    "    \n",
    "    def __getitem__(self, idx):\n",
    "        return self.input_ids[idx], self.target_ids[idx]\n",
    "    \n",
    "def create_dataloader_v1(txt, batch_size=4, max_length=256, stride=128, shuffle=True, drop_last=True, num_workers=0):\n",
    "    tokenizer = tiktoken.get_encoding(\"gpt2\")\n",
    "    dataset = GPTDatasetV1(txt, tokenizer, max_length, stride,)\n",
    "    dataloader = DataLoader(dataset, batch_size=batch_size, shuffle=shuffle, drop_last=drop_last, num_workers=num_workers)\n",
    "    return dataloader"
   ]
  },
  {
   "cell_type": "code",
   "execution_count": null,
   "id": "70c372c9",
   "metadata": {},
   "outputs": [],
   "source": [
    "with open(\"the-verdict.txt\", \"r\", encoding=\"utf-8\") as f:\n",
    "    raw_text = f.read()\n",
    "\n",
    "dataloader = create_dataloader_v1(raw_text, batch_size=1, max_length=4, stride=1, shuffle=False)\n",
    "data_iter = iter(dataloader)\n",
    "batch1 = next(data_iter)\n",
    "print(batch1)"
   ]
  },
  {
   "cell_type": "code",
   "execution_count": null,
   "id": "315e0b6e",
   "metadata": {},
   "outputs": [],
   "source": []
  }
 ],
 "metadata": {
  "kernelspec": {
   "display_name": "Python 3 (ipykernel)",
   "language": "python",
   "name": "python3"
  },
  "language_info": {
   "codemirror_mode": {
    "name": "ipython",
    "version": 3
   },
   "file_extension": ".py",
   "mimetype": "text/x-python",
   "name": "python",
   "nbconvert_exporter": "python",
   "pygments_lexer": "ipython3",
   "version": "3.12.0"
  }
 },
 "nbformat": 4,
 "nbformat_minor": 5
}
